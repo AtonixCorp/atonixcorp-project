{
 "cells": [
  {
   "cell_type": "code",
   "execution_count": null,
   "metadata": {},
   "outputs": [],
   "source": [
    "# Import Qiskit IBM Runtime Service\n",
    "from qiskit_ibm_runtime import QiskitRuntimeService, SamplerV2 as Sampler\n",
    "\n",
    "# Import Qiskit modules\n",
    "from qiskit import Aer, QuantumCircuit, transpile, assemble, execute\n",
    "from qiskit.utils import QuantumInstance\n",
    "from qiskit.algorithms import VQE, Shor, Grover, AmplificationProblem, QAOA\n",
    "from qiskit.algorithms.optimizers import COBYLA\n",
    "from qiskit.circuit.library import TwoLocal, QFT, PhaseOracle\n",
    "from qiskit_nature.drivers import PySCFDriver\n",
    "from qiskit_nature.transformers import FreezeCoreTransformer\n",
    "from qiskit_nature.converters import QubitConverter\n",
    "from qiskit_nature.mappers import ParityMapper\n",
    "from qiskit_nature.algorithms import GroundStateEigensolver\n",
    "from qiskit_optimization import QuadraticProgram\n",
    "from qiskit_optimization.algorithms import MinimumEigenOptimizer"
   ]
  },
  {
   "cell_type": "code",
   "execution_count": 3,
   "metadata": {},
   "outputs": [],
   "source": [
    "from qiskit_ibm_runtime import QiskitRuntimeService\n",
    "\n",
    "# Save account to disk and save it as the default, with overwrite set to True.\n",
    "QiskitRuntimeService.save_account(\n",
    "    channel=\"ibm_cloud\",\n",
    "    token=\"API_TOKEN\",\n",
    "    instance=\"CRN\",\n",
    "    name=\"account-name\",\n",
    "    set_as_default=True,\n",
    "    overwrite=True\n",
    ")\n",
    "\n",
    "# Load the saved credentials\n",
    "service = QiskitRuntimeService(name=\"account-name\")"
   ]
  },
  {
   "cell_type": "code",
   "execution_count": 5,
   "metadata": {},
   "outputs": [
    {
     "name": "stdout",
     "output_type": "stream",
     "text": [
      "<IBMBackend('ibmq_qasm_simulator')>\n",
      "<IBMBackend('simulator_stabilizer')>\n",
      "<IBMBackend('simulator_mps')>\n",
      "<IBMBackend('simulator_extended_stabilizer')>\n",
      "<IBMBackend('simulator_statevector')>\n",
      "job id: csbssp97ufh2pu1lqpgg\n",
      "PrimitiveResult([SamplerPubResult(data=DataBin(meas=BitArray(<shape=(), num_shots=4096, num_bits=2>)), metadata={'circuit_metadata': {}})], metadata={'execution': {'execution_spans': ExecutionSpans([SliceSpan(<start='2024-10-22 16:10:15', stop='2024-10-22 16:10:15', size=4096>)])}, 'version': 2})\n"
     ]
    }
   ],
   "source": [
    "from qiskit import QuantumCircuit\n",
    "from qiskit_ibm_runtime import QiskitRuntimeService, SamplerV2 as Sampler\n",
    "\n",
    "# Create empty circuit\n",
    "example_circuit = QuantumCircuit(2)\n",
    "example_circuit.measure_all()\n",
    "\n",
    "# Initialize QiskitRuntimeService\n",
    "service = QiskitRuntimeService()\n",
    "\n",
    "# List available backends\n",
    "backends = service.backends()\n",
    "for backend in backends:\n",
    "    print(backend)\n",
    "\n",
    "# Specify a known backend\n",
    "backend_name = \"ibmq_qasm_simulator\"  # Replace with an available backend name\n",
    "backend = service.backend(backend_name)\n",
    "\n",
    "sampler = Sampler(backend)\n",
    "job = sampler.run([example_circuit])\n",
    "print(f\"job id: {job.job_id()}\")\n",
    "result = job.result()\n",
    "print(result)"
   ]
  },
  {
   "cell_type": "code",
   "execution_count": 8,
   "metadata": {},
   "outputs": [
    {
     "name": "stdout",
     "output_type": "stream",
     "text": [
      "<IBMBackend('ibmq_qasm_simulator')>\n",
      "<IBMBackend('simulator_stabilizer')>\n",
      "<IBMBackend('simulator_mps')>\n",
      "<IBMBackend('simulator_extended_stabilizer')>\n",
      "<IBMBackend('simulator_statevector')>\n"
     ]
    }
   ],
   "source": [
    "from qiskit_ibm_runtime import QiskitRuntimeService\n",
    "\n",
    "service = QiskitRuntimeService()\n",
    "backends = service.backends()\n",
    "for backend in backends:\n",
    "    print(backend)"
   ]
  },
  {
   "cell_type": "code",
   "execution_count": 1,
   "metadata": {
    "scrolled": true
   },
   "outputs": [
    {
     "name": "stdout",
     "output_type": "stream",
     "text": [
      " >> Counts for the meas output register: {'00': 475, '11': 486, '10': 37, '01': 26}\n"
     ]
    }
   ],
   "source": [
    "# Prepare the input circuit.\n",
    "from qiskit import QuantumCircuit\n",
    "\n",
    "bell = QuantumCircuit(2)\n",
    "bell.h(0)\n",
    "bell.cx(0, 1)\n",
    "bell.measure_all()\n",
    "\n",
    "# Execute the circuit\n",
    "from qiskit_ibm_runtime import SamplerV2 as Sampler\n",
    "from qiskit_ibm_runtime.fake_provider import FakeManilaV2\n",
    "\n",
    "# Run the sampler job locally using FakeManilaV2\n",
    "backend = FakeManilaV2()\n",
    "\n",
    "from qiskit.transpiler.preset_passmanagers import generate_preset_pass_manager\n",
    "pm = generate_preset_pass_manager(backend=backend, optimization_level=1)\n",
    "isa_bell = pm.run(bell)\n",
    "\n",
    "sampler = Sampler(backend)\n",
    "\n",
    "job = sampler.run([(isa_bell,)])\n",
    "result = job.result()\n",
    "\n",
    "pub_result = result[0]\n",
    "# Get counts from the classical register \"meas\".\n",
    "print(f\" >> Counts for the meas output register: {pub_result.data.meas.get_counts()}\")"
   ]
  },
  {
   "cell_type": "code",
   "execution_count": 2,
   "metadata": {},
   "outputs": [],
   "source": [
    "from qiskit.transpiler.preset_passmanagers import generate_preset_pass_manager\n",
    "\n",
    "# Create a new circuit with two qubits (first argument) and two classical\n",
    "# bits (second argument)\n",
    "qc = QuantumCircuit(2)\n",
    "qc.h(0)\n",
    "qc.cx(0, 1)\n",
    "\n",
    "# Set up six different observables.\n",
    "observables_labels = [\"ZZ\", \"ZI\", \"IZ\", \"XX\", \"XI\"]\n",
    "\n",
    "from qiskit.quantum_info import SparsePauliOp\n",
    "observables = [SparsePauliOp(label) for label in observables_labels]\n",
    "\n",
    "# Convert to an ISA circuit and layout-mapped observables.\n",
    "pm = generate_preset_pass_manager(backend=backend, optimization_level=1)\n",
    "isa_circuit = pm.run(qc)\n",
    "observables = [\n",
    "    observable.apply_layout(isa_circuit.layout) for observable in observables\n",
    "]"
   ]
  },
  {
   "cell_type": "markdown",
   "metadata": {},
   "source": [
    "## Molecular Simulations"
   ]
  },
  {
   "cell_type": "code",
   "execution_count": null,
   "metadata": {},
   "outputs": [],
   "source": [
    "from qiskit import Aer\n",
    "from qiskit.utils import QuantumInstance\n",
    "from qiskit.algorithms import VQE\n",
    "from qiskit.circuit.library import TwoLocal\n",
    "from qiskit.algorithms.optimizers import COBYLA\n",
    "from qiskit_nature.drivers import PySCFDriver\n",
    "from qiskit_nature.transformers import FreezeCoreTransformer\n",
    "from qiskit_nature.converters import QubitConverter\n",
    "from qiskit_nature.mappers import ParityMapper\n",
    "from qiskit_nature.algorithms import GroundStateEigensolver\n",
    "\n",
    "# Define the molecule\n",
    "driver = PySCFDriver(atom='H .0 .0 .0; H .0 .0 0.735', basis='sto3g')\n",
    "molecule = driver.run()\n",
    "\n",
    "# Freeze core orbitals\n",
    "transformer = FreezeCoreTransformer()\n",
    "molecule = transformer.transform(molecule)\n",
    "\n",
    "# Map to qubit Hamiltonian\n",
    "qubit_converter = QubitConverter(mapper=ParityMapper(), two_qubit_reduction=True)\n",
    "qubit_hamiltonian = qubit_converter.convert(molecule.second_q_ops()[0])\n",
    "\n",
    "# Set up the VQE algorithm\n",
    "optimizer = COBYLA(maxiter=1000)\n",
    "var_form = TwoLocal(rotation_blocks='ry', entanglement_blocks='cz')\n",
    "vqe = VQE(var_form, optimizer=optimizer, quantum_instance=QuantumInstance(Aer.get_backend('qasm_simulator')))\n",
    "\n",
    "# Solve for the ground state energy\n",
    "solver = GroundStateEigensolver(qubit_converter, vqe)\n",
    "result = solver.solve(molecule)\n",
    "\n",
    "print(\"Ground state energy:\", result.total_energies[0])"
   ]
  },
  {
   "cell_type": "markdown",
   "metadata": {},
   "source": [
    "## Material Design"
   ]
  },
  {
   "cell_type": "code",
   "execution_count": null,
   "metadata": {},
   "outputs": [],
   "source": [
    "from qiskit import Aer\n",
    "from qiskit.utils import QuantumInstance\n",
    "from qiskit.algorithms import VQE\n",
    "from qiskit.circuit.library import TwoLocal\n",
    "from qiskit.algorithms.optimizers import COBYLA\n",
    "from qiskit_nature.drivers import PySCFDriver\n",
    "from qiskit_nature.transformers import FreezeCoreTransformer\n",
    "from qiskit_nature.converters import QubitConverter\n",
    "from qiskit_nature.mappers import ParityMapper\n",
    "from qiskit_nature.algorithms import GroundStateEigensolver\n",
    "\n",
    "# Define the material (e.g., Lithium Hydride, LiH)\n",
    "driver = PySCFDriver(atom='Li .0 .0 .0; H .0 .0 1.6', basis='sto3g')\n",
    "material = driver.run()\n",
    "\n",
    "# Freeze core orbitals\n",
    "transformer = FreezeCoreTransformer()\n",
    "material = transformer.transform(material)\n",
    "\n",
    "# Map to qubit Hamiltonian\n",
    "qubit_converter = QubitConverter(mapper=ParityMapper(), two_qubit_reduction=True)\n",
    "qubit_hamiltonian = qubit_converter.convert(material.second_q_ops()[0])\n",
    "\n",
    "# Set up the VQE algorithm\n",
    "optimizer = COBYLA(maxiter=1000)\n",
    "var_form = TwoLocal(rotation_blocks='ry', entanglement_blocks='cz')\n",
    "vqe = VQE(var_form, optimizer=optimizer, quantum_instance=QuantumInstance(Aer.get_backend('qasm_simulator')))\n",
    "\n",
    "# Solve for the ground state energy\n",
    "solver = GroundStateEigensolver(qubit_converter, vqe)\n",
    "result = solver.solve(material)\n",
    "\n",
    "print(\"Ground state energy:\", result.total_energies[0])"
   ]
  },
  {
   "cell_type": "markdown",
   "metadata": {},
   "source": [
    "#  Shor's Algorithm"
   ]
  },
  {
   "cell_type": "code",
   "execution_count": null,
   "metadata": {},
   "outputs": [],
   "source": [
    "#Purpose: Integer factorization, which has significant implications for cryptography.\n",
    "from qiskit import QuantumCircuit, Aer, transpile, assemble, execute\n",
    "from qiskit.algorithms import Shor\n",
    "\n",
    "# Initialize Shor's algorithm\n",
    "shor = Shor()\n",
    "\n",
    "# Factorize a number (e.g., 15)\n",
    "result = shor.factor(N=15)\n",
    "print(result)"
   ]
  },
  {
   "cell_type": "markdown",
   "metadata": {},
   "source": [
    "# Grover's Algorithm"
   ]
  },
  {
   "cell_type": "code",
   "execution_count": null,
   "metadata": {},
   "outputs": [],
   "source": [
    "#Purpose: Unstructured search problems, providing a quadratic speedup over classical algorithms\n",
    "from qiskit import QuantumCircuit, Aer, transpile, assemble, execute\n",
    "from qiskit.algorithms import Grover, AmplificationProblem\n",
    "from qiskit.circuit.library import PhaseOracle\n",
    "\n",
    "# Define the oracle for the search problem\n",
    "oracle = PhaseOracle(\"a & b\")\n",
    "\n",
    "# Define the amplification problem\n",
    "problem = AmplificationProblem(oracle)\n",
    "\n",
    "# Initialize Grover's algorithm\n",
    "grover = Grover()\n",
    "\n",
    "# Run Grover's algorithm\n",
    "result = grover.amplify(problem)\n",
    "print(result)"
   ]
  },
  {
   "cell_type": "markdown",
   "metadata": {},
   "source": [
    "# Quantum Fourier Transform (QFT)"
   ]
  },
  {
   "cell_type": "code",
   "execution_count": null,
   "metadata": {},
   "outputs": [],
   "source": [
    "#Purpose: A key component in many quantum algorithms, including Shor's algorithm.\n",
    "from qiskit import QuantumCircuit, Aer, transpile, assemble, execute\n",
    "from qiskit.circuit.library import QFT\n",
    "\n",
    "# Create a QFT circuit\n",
    "qft = QFT(num_qubits=3)\n",
    "\n",
    "# Simulate the QFT circuit\n",
    "simulator = Aer.get_backend('qasm_simulator')\n",
    "result = execute(qft, simulator).result()\n",
    "print(result.get_counts())"
   ]
  },
  {
   "cell_type": "markdown",
   "metadata": {},
   "source": [
    "# . Variational Quantum Eigensolver (VQE)\n"
   ]
  },
  {
   "cell_type": "code",
   "execution_count": null,
   "metadata": {},
   "outputs": [],
   "source": [
    "#Purpose: Finding the ground state energy of a system, useful in quantum chemistry and material science.\n",
    "from qiskit import Aer\n",
    "from qiskit.utils import QuantumInstance\n",
    "from qiskit.algorithms import VQE\n",
    "from qiskit.circuit.library import TwoLocal\n",
    "from qiskit.algorithms.optimizers import COBYLA\n",
    "from qiskit_nature.drivers import PySCFDriver\n",
    "from qiskit_nature.transformers import FreezeCoreTransformer\n",
    "from qiskit_nature.converters import QubitConverter\n",
    "from qiskit_nature.mappers import ParityMapper\n",
    "from qiskit_nature.algorithms import GroundStateEigensolver\n",
    "\n",
    "# Define the molecule\n",
    "driver = PySCFDriver(atom='H .0 .0 .0; H .0 .0 0.735', basis='sto3g')\n",
    "molecule = driver.run()\n",
    "\n",
    "# Freeze core orbitals\n",
    "transformer = FreezeCoreTransformer()\n",
    "molecule = transformer.transform(molecule)\n",
    "\n",
    "# Map to qubit Hamiltonian\n",
    "qubit_converter = QubitConverter(mapper=ParityMapper(), two_qubit_reduction=True)\n",
    "qubit_hamiltonian = qubit_converter.convert(molecule.second_q_ops()[0])\n",
    "\n",
    "# Set up the VQE algorithm\n",
    "optimizer = COBYLA(maxiter=1000)\n",
    "var_form = TwoLocal(rotation_blocks='ry', entanglement_blocks='cz')\n",
    "vqe = VQE(var_form, optimizer=optimizer, quantum_instance=QuantumInstance(Aer.get_backend('qasm_simulator')))\n",
    "\n",
    "# Solve for the ground state energy\n",
    "solver = GroundStateEigensolver(qubit_converter, vqe)\n",
    "result = solver.solve(molecule)\n",
    "\n",
    "print(\"Ground state energy:\", result.total_energies[0])"
   ]
  },
  {
   "cell_type": "markdown",
   "metadata": {},
   "source": [
    "# Quantum Approximate Optimization Algorithm (QAOA)"
   ]
  },
  {
   "cell_type": "code",
   "execution_count": null,
   "metadata": {},
   "outputs": [],
   "source": [
    "# Purpose: Solving combinatorial optimization problems.\n",
    "from qiskit import Aer\n",
    "from qiskit.utils import QuantumInstance\n",
    "from qiskit.algorithms import QAOA\n",
    "from qiskit.circuit.library import TwoLocal\n",
    "from qiskit.algorithms.optimizers import COBYLA\n",
    "from qiskit_optimization import QuadraticProgram\n",
    "from qiskit_optimization.algorithms import MinimumEigenOptimizer\n",
    "\n",
    "# Define the optimization problem\n",
    "problem = QuadraticProgram()\n",
    "problem.binary_var('x')\n",
    "problem.binary_var('y')\n",
    "problem.minimize(linear={'x': 1, 'y': 2}, quadratic={('x', 'y'): -1})\n",
    "\n",
    "# Set up the QAOA algorithm\n",
    "optimizer = COBYLA(maxiter=100)\n",
    "qaoa = QAOA(optimizer=optimizer, quantum_instance=QuantumInstance(Aer.get_backend('qasm_simulator')))\n",
    "\n",
    "# Solve the optimization problem\n",
    "optimizer = MinimumEigenOptimizer(qaoa)\n",
    "result = optimizer.solve(problem)\n",
    "\n",
    "print(result)"
   ]
  },
  {
   "cell_type": "markdown",
   "metadata": {},
   "source": [
    "# Quantum Phase Estimation (QPE)"
   ]
  },
  {
   "cell_type": "code",
   "execution_count": null,
   "metadata": {},
   "outputs": [],
   "source": [
    "# Purpose: Estimating the phase (eigenvalue) of an eigenvector of a unitary operator.\n",
    "from qiskit import QuantumCircuit, Aer, transpile, assemble, execute\n",
    "from qiskit.circuit.library import QFT\n",
    "\n",
    "# Create a QPE circuit\n",
    "qc = QuantumCircuit(3, 3)\n",
    "qc.h([0, 1, 2])\n",
    "qc.cp(1.0, 0, 2)\n",
    "qc.cp(0.5, 1, 2)\n",
    "qc.cp(0.25, 2, 2)\n",
    "qc.append(QFT(3).inverse(), [0, 1, 2])\n",
    "qc.measure([0, 1, 2], [0, 1, 2])\n",
    "\n",
    "# Simulate the QPE circuit\n",
    "simulator = Aer.get_backend('qasm_simulator')\n",
    "result = execute(qc, simulator).result()\n",
    "print(result.get_counts())"
   ]
  }
 ],
 "metadata": {
  "kernelspec": {
   "display_name": "Python 3 (ipykernel)",
   "language": "python",
   "name": "python3"
  },
  "language_info": {
   "codemirror_mode": {
    "name": "ipython",
    "version": 3
   },
   "file_extension": ".py",
   "mimetype": "text/x-python",
   "name": "python",
   "nbconvert_exporter": "python",
   "pygments_lexer": "ipython3",
   "version": "3.8.19"
  }
 },
 "nbformat": 4,
 "nbformat_minor": 4
}
